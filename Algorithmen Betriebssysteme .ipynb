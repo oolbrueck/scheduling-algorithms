{
 "cells": [
  {
   "cell_type": "code",
   "execution_count": 3,
   "metadata": {},
   "outputs": [
    {
     "name": "stdout",
     "output_type": "stream",
     "text": [
      "Reihenfolge der Prozesse:  [0, 0, 1, 2, 3, 0, 1, 2]\n",
      "Wartezeit je prozess:  [9 9 8 0]\n"
     ]
    }
   ],
   "source": [
    "import numpy as np\n",
    "\n",
    "def roundRobin(burst, ankunftszeit, quantum):\n",
    "    runningOrder = []                        #Reihenfolge der Abarbeitung\n",
    "    time = 0                                 #Abgelaufene Zeit\n",
    "    results = np.full((len(burst)), 0) #Wartezeit eines prozesses\n",
    "    owntime = np.full((len(burst)), 0) #Zeit eines Prozesses\n",
    "    \n",
    "    mini = (0, 0) #mini(Ankunftszeit, arrayposition)\n",
    "    \n",
    "    while sum(burst) > 0:\n",
    "    \n",
    "        for i in range (len(ankunftszeit)):\n",
    "            \n",
    "            if ankunftszeit[i] - time <= 0  and burst[i] > 0: #Wenn P verfuegbar und nicht 0\n",
    "                mini = (ankunftszeit[i], i) #Dann erzeuge 'Instanz' welche Ankunftszeit und Arrayposition besitzt\n",
    "                runningOrder.append(i)\n",
    "                if burst[mini[1]] <= quantum: #Wenn der Burst der 'Instanz' kleiner als das Quantum ist\n",
    "                    results[mini[1]] = time - (owntime[mini[1]] + ankunftszeit[mini[1]]) #Schreibe die Wartezeit von P in r[]\n",
    "                    time += burst[mini[1]]    #Fuege der Gesammtzeit die Burstzeit hinzu\n",
    "                    burst[mini[1]] = 0  #Makiere P als vollstaendig bearbeitet\n",
    "                if burst[mini[1]] > quantum: #Wenn der Burst der 'Instanz' groesser ist als das Quantum\n",
    "                    time += quantum           #Fuege der Gesammtzeit die Burstzeit/das Quantum hinzu\n",
    "                    owntime[mini[1]] += quantum  #erhoehe Laufzeit von P\n",
    "                    burst[mini[1]] -= quantum #Verringere Burst von P um Quantum\n",
    "                    \n",
    "    print('Reihenfolge der Prozesse: ', runningOrder)    \n",
    "    return results\n",
    "        \n",
    "    \n",
    "burst = [7, 6, 4, 3]\n",
    "ankunftszeit = [0, 4, 8, 12]\n",
    "quantum = 3\n",
    "    \n",
    "print('Wartezeit je prozess: ', roundRobin(burst, ankunftszeit, quantum))\n"
   ]
  },
  {
   "cell_type": "code",
   "execution_count": 39,
   "metadata": {},
   "outputs": [
    {
     "name": "stdout",
     "output_type": "stream",
     "text": [
      "Reihenfolge:  [1, 3, 2, 0]\n",
      "Wartezeit je Prozess [10  0  5  2]\n"
     ]
    }
   ],
   "source": [
    "import numpy as np\n",
    "\n",
    "def priorityScheduling(ankunft, burst, prio, hnehp, preemptive, numofdecr):#hnehp == high number equals high priority\n",
    "    time = 0\n",
    "    runningOrder = []\n",
    "    results = np.full((len(burst)), 0) #results sind die wartezeiten\n",
    "    owntime = np.full((len(burst)), 0)\n",
    "    \n",
    "    while sum(burst) > 0:      #Laeuft bis alle Prozesse durch burst == 0 als fertig makiert wurden\n",
    "        \n",
    "        aval_p1 = np.full((len(burst)), 0)     #Stufe 1, sucht alle Prozesse die zu dem Zeitpunkt grundsaetzlich da sind\n",
    "        \n",
    "        for i in range(len(burst)):\n",
    "            if ankunft[i] - time <= 0 and burst[i] > 0:\n",
    "                aval_p1[i] = prio[i]  #Liste mit den prios der Prozesse\n",
    "        aval_p2 = 0   #var fuer P mit hoechster prio    \n",
    "        if hnehp == False: #niedrige prionummer == hohe prio\n",
    "            aval_p2 = np.where(aval_p1 == min(aval_p1))[0][0] # => index fuer {p|p(prio)=maxPrio(p_ges)&ind(p) ist min}\n",
    "        if hnehp == True: #hohe prionummer == hohe prio\n",
    "            aval_p2 = np.where(aval_p1 == max(aval_p1))[0][0] # => index fuer {p|p(prio)=maxPrio(p_ges)&ind(p) ist min}    \n",
    "        runningOrder.append(aval_p2) #protokollierung der Prozesslaufreihenfolge\n",
    "        if preemptive == False:\n",
    "            results[aval_p2] = time - ankunft[aval_p2]\n",
    "            time += burst[aval_p2]\n",
    "            burst[aval_p2] = 0\n",
    "        if preemptive == True:\n",
    "            if burst[aval_p2] - numofdecr <= 0:\n",
    "                results[aval_p2] = time - (ankunft + owntime)\n",
    "                time += burst[aval_p2]\n",
    "                burst[aval_p2] = 0\n",
    "            else:\n",
    "                owntime += numofdecr\n",
    "                time += burst[aval_p2]\n",
    "                burst[aval_p2] -= numofdecr\n",
    "    print('Reihenfolge: ', runningOrder)\n",
    "    return results  \n",
    "        \n",
    "ankunft = [0, 0, 2, 3]\n",
    "burst = [4, 5, 3, 2]\n",
    "prio = [1, 2, 3, 4]\n",
    "hnehp = True #hnehp == high number equals high priority\n",
    "preemptive = False\n",
    "numofdecr = 1\n",
    "print('Wartezeit je Prozess', priorityScheduling(ankunft, burst, prio, hnehp, preemptive, numofdecr ))"
   ]
  },
  {
   "cell_type": "code",
   "execution_count": 48,
   "metadata": {},
   "outputs": [
    {
     "name": "stdout",
     "output_type": "stream",
     "text": [
      "Reihenfolge: [0, 0, 0, 0, 0, 0, 0, 1, 2, 2, 2, 2, 3, 3, 3, 1, 1, 1, 1, 1]\n",
      "Wartezeit je Prozess [ 0 10  0  0]\n"
     ]
    }
   ],
   "source": [
    "import numpy as np\n",
    "\n",
    "def shortestJobFirst(burst, ankunft, preemptive):\n",
    "    time = 0\n",
    "    runningOrder = []\n",
    "    results = np.full((len(burst)), 0)\n",
    "    \n",
    "    while(sum(burst) > 0): #Vergleich dient der Semantik, eigentlich nicht noetig\n",
    "        aval_p1 = np.full((len(burst)), 0) #Stufe 1, sucht alle Prozesse die zu dem Zeitpunkt grundsaetzlich da sind\n",
    "        for i in range(len(burst)):\n",
    "            if ankunft[i] - time <= 0 and burst[i] > 0:\n",
    "                aval_p1[i] = burst[i]  #Liste mit den busts der gegenwaertigen Prozesse\n",
    "                        \n",
    "        p_min = np.where(aval_p1 == minwo(aval_p1))[0][0]\n",
    "        runningOrder.append(p_min) #protokollierung der Prozesslaufreihenfolge\n",
    "        if preemptive == True:\n",
    "            burst[p_min] -= 1\n",
    "            if burst[p_min] == 0:\n",
    "                results[p_min] = time - (ankunft[p_min] + results[p_min])\n",
    "                time += 1\n",
    "            else:\n",
    "                results[p_min] += 1\n",
    "                time += 1\n",
    "        if preemptive == False:\n",
    "            results[p_min] = time - (ankunft[p_min])\n",
    "            time += burst[p_min]\n",
    "            burst[p_min] = 0\n",
    "        #print(burst[p_min])\n",
    "    print('Reihenfolge:', runningOrder)\n",
    "    return results\n",
    "            \n",
    "burst = [7, 6, 4, 3]\n",
    "Ankunft = [0, 4, 8, 12]\n",
    "preemptive = True\n",
    "print('Wartezeit je Prozess', shortestJobFirst(burst, Ankunft, preemptive))          "
   ]
  },
  {
   "cell_type": "code",
   "execution_count": 47,
   "metadata": {},
   "outputs": [
    {
     "name": "stdout",
     "output_type": "stream",
     "text": [
      "Reihenfolge [70, 80, 100, 50, 20, 200, 300, 500]\n",
      "Abstaende [10, 20, 50, 30, 180, 100, 200]\n",
      "Gesamter Abstand 590\n",
      "Average Abstand 84.28571428571429\n"
     ]
    }
   ],
   "source": [
    "import numpy as np\n",
    "import math\n",
    "import matplotlib.pyplot as plt\n",
    "\n",
    "xplot = [0]\n",
    "\n",
    "def sstf(Anforderungen, start): #DerFall, dass zwei Anforderungen den selben Wert haben wird nicht unterstuetzt\n",
    "    reihenfolge = np.full(len(Anforderungen), 0)\n",
    "    \n",
    "    abgearbeitet = [start]\n",
    "    \n",
    "    for k in range(len(Anforderungen)):\n",
    "        reihenfolge[k] = start\n",
    "        liste2 = np.full(len(Anforderungen), 0)\n",
    "        for i in range(len(Anforderungen)):\n",
    "            if Anforderungen[i] not in abgearbeitet:\n",
    "                liste2[i] = (abs(Anforderungen[i] - start))\n",
    "       \n",
    "        #abgearbeitet.append(start)\n",
    "        start = Anforderungen[np.where(liste2 == int(minwo(liste2)))[0][0]] \n",
    "        abgearbeitet.append(start)\n",
    "    return abgearbeitet\n",
    "\n",
    "\n",
    "\n",
    "ou = sstf([100, 300, 50, 80, 200, 20, 500], 70) #Liste ohne Startwert , Startwert\n",
    "print('Reihenfolge', ou)\n",
    "print('Abstaende', abstand(ou))\n",
    "print('Gesamter Abstand', np.sum(abstand(ou)))\n",
    "print('Average Abstand', np.average(abstand(ou))) \n",
    "\n",
    "\n",
    "    \n",
    "    "
   ]
  },
  {
   "cell_type": "code",
   "execution_count": 42,
   "metadata": {},
   "outputs": [
    {
     "name": "stdout",
     "output_type": "stream",
     "text": [
      "[100 140 190 240 310 420 470  80  20]\n",
      "Abstaende [40, 50, 50, 70, 110, 50, 390, 60]\n",
      "Gesammter Abstand 820\n",
      "Average Abstand 102.5\n"
     ]
    }
   ],
   "source": [
    "\n",
    "\n",
    "def scook(Anforderungen, start, up, untere_Grenze, obere_Grenze, scan): #Algorithmus fuer scan und look Scheduling\n",
    "    inkl_Grenze = 0\n",
    "    liste1 = []\n",
    "    liste2 = []\n",
    "    liste3 = np.array([])\n",
    "    if up == True:\n",
    "        inkl_Grenze = obere_Grenze\n",
    "    else:\n",
    "        inkl_Grenze = untere_Grenze\n",
    "    if up == True:\n",
    "        liste1_indicees = [np.where(np.array(Anforderungen) > start)][0][0]\n",
    "        liste1 = np.array(Anforderungen)[liste1_indicees]\n",
    "        liste1 = np.sort(liste1)\n",
    "        if scan == True:\n",
    "            liste1 = np.append(liste1, inkl_Grenze)\n",
    "        liste2_indicees = [np.where(np.array(Anforderungen) < start)][0][0]\n",
    "        liste2 = np.array(Anforderungen)[liste2_indicees]\n",
    "        liste2 = np.sort(liste2)[::-1]\n",
    "    if up == False:\n",
    "        liste1_indicees = [np.where(np.array(Anforderungen) < start)][0][0]\n",
    "        liste1 = np.array(Anforderungen)[liste1_indicees]\n",
    "        liste1 = np.sort(liste1)[::-1]\n",
    "        if scan == True:\n",
    "            print('JAA')\n",
    "            liste1 = np.append(liste1, inkl_Grenze)\n",
    "        liste2_indicees = [np.where(np.array(Anforderungen) > start)][0][0]\n",
    "        liste2 = np.array(Anforderungen)[liste2_indicees]\n",
    "        liste2 = np.sort(liste2)\n",
    "    liste3 = np.append(np.array([start]), liste1)\n",
    "    liste3 = np.append(liste3, liste2)\n",
    "    \n",
    "    return liste3\n",
    "   \n",
    "Anforderungen = [310, 190, 470, 20, 240, 140, 80, 420]\n",
    "start = 100\n",
    "up = True      #Bewegrichtung Kopf\n",
    "untere_Grenze = 0     #Grenzen richten sich nach Zylindergroesse\n",
    "obere_Grenze = 490\n",
    "scan = False\n",
    "\n",
    "sc = scook(Anforderungen, start, up, untere_Grenze, obere_Grenze, scan)    \n",
    "print(sc)\n",
    "print('Abstaende', abstand(sc))\n",
    "print('Gesammter Abstand', np.sum(abstand(sc)))\n",
    "print('Average Abstand', np.average(abstand(sc))) \n",
    "    "
   ]
  },
  {
   "cell_type": "code",
   "execution_count": 43,
   "metadata": {},
   "outputs": [
    {
     "name": "stdout",
     "output_type": "stream",
     "text": [
      "Reihenfolge [100  80  20 470 420 310 240 190 140]\n",
      "Abstaende [20, 60, 450, 50, 110, 70, 50, 50]\n",
      "Gesammter Abstand 860\n",
      "Average Abstand 107.5\n"
     ]
    }
   ],
   "source": [
    "\n",
    "\n",
    "def cscook(Anforderungen, start, up, untere_Grenze, obere_Grenze, clook): #fuer c-look und c-scan\n",
    "    if clook == False:\n",
    "        Anforderungen = np.append(np.array(Anforderungen), [start, untere_Grenze, obere_Grenze])\n",
    "    if clook == True:\n",
    "        Anforderungen = np.append(np.array(Anforderungen), [start])\n",
    "    \n",
    "    if up == False:\n",
    "        i = np.sort(np.array(Anforderungen)[np.where(np.array(Anforderungen) <= start)])[::-1]\n",
    "        j = np.sort(list(set(Anforderungen).difference(i)))[::-1]\n",
    "    if up == True:\n",
    "        i = np.sort(np.array(Anforderungen)[np.where(np.array(Anforderungen) >= start)])\n",
    "        j = np.sort(list(set(Anforderungen).difference(i)))\n",
    "    return np.append(i, j)\n",
    "\n",
    "\n",
    "eingabeArray = [310, 190, 470, 20, 240, 140, 80, 420]\n",
    "start = 100\n",
    "up = False\n",
    "untere_Grenze = 0\n",
    "obere_Grenze = 490\n",
    "clook = True\n",
    "\n",
    "va = cscook(eingabeArray , start, up, untere_Grenze, obere_Grenze, clook) #Anforderungen, start, aufsteigend?, untere Grenze, obere Grenze, clook?\n",
    "print('Reihenfolge', va)\n",
    "print('Abstaende', abstand(va))\n",
    "print('Gesammter Abstand', np.sum(abstand(va)))\n",
    "print('Average Abstand', np.average(abstand(va))) \n",
    "\n"
   ]
  },
  {
   "cell_type": "code",
   "execution_count": 44,
   "metadata": {},
   "outputs": [],
   "source": [
    "import numpy as np\n",
    "\n",
    "def minwo(array):            #returns minimum without 0\n",
    "    array = np.array(array)\n",
    "    return min(set(array).difference(array[np.where((array > 0) == False)[0]]))\n",
    "    \n"
   ]
  },
  {
   "cell_type": "code",
   "execution_count": 45,
   "metadata": {},
   "outputs": [
    {
     "name": "stdout",
     "output_type": "stream",
     "text": [
      "[57, 1384, 557, 861, 826, 561, 487, 728, 1620]\n",
      "Gesammter Abstand 7081\n",
      "Average Abstand 786.7777777777778\n"
     ]
    }
   ],
   "source": [
    "import numpy as np\n",
    "\n",
    "def abstand(liste):\n",
    "    ret = []\n",
    "    for i in range(len(liste) - 1):\n",
    "        ret.append(abs(liste[i] - liste[i + 1]))\n",
    "    return ret\n",
    "\n",
    "#          Erste Zahl nicht vergessen !!!!\n",
    "absta = abstand([151, 94, 1478, 921, 1782, 956,1517,1030,1758,138])\n",
    "print(absta)\n",
    "print('Gesammter Abstand', np.sum(absta))\n",
    "print('Average Abstand', np.average(absta)) \n",
    "    \n",
    "    \n"
   ]
  },
  {
   "cell_type": "code",
   "execution_count": 4,
   "metadata": {},
   "outputs": [
    {
     "name": "stdout",
     "output_type": "stream",
     "text": [
      "[[1, 5], [1, 10], [1, 15], [1, 20], [1, 25], [1, 30], [1, 35], [1, 40], [1, 45], [1, 50], [1, 55], [1, 60], [2, 15], [2, 30], [2, 45], [2, 60], [3, 14], [3, 34], [3, 54]]\n"
     ]
    }
   ],
   "source": [
    "from math import gcd \n",
    "from functools import reduce \n",
    "\n",
    "\n",
    "def edf(lct, lpt, ldl): #earliest deadline first\n",
    "    lreihe = np.full((reduce(lambda a,b: a*b // gcd(a,b), lpt)), -1) #erzeugt die Hauptreihe in der passenden Groesse\n",
    "    lalldl = []\n",
    "    \n",
    "    \n",
    "    for i in range(len(ldl)):\n",
    "        k = 1\n",
    "        while(lpt[i] * k - (lpt[i] - ldl[i]) <= len(lreihe)):\n",
    "            lalldl.append([i + 1, lpt[i] * k - (lpt[i] - ldl[i])])\n",
    "            k = k + 1\n",
    "    print(lalldl)           \n",
    "        \n",
    "        \n",
    "    \n",
    "    \n",
    "    \n",
    "    \n",
    "edf([2, 3, 6], [5, 15, 20], [5, 15, 14])\n",
    "    "
   ]
  },
  {
   "cell_type": "code",
   "execution_count": null,
   "metadata": {},
   "outputs": [],
   "source": []
  }
 ],
 "metadata": {
  "kernelspec": {
   "display_name": "Python 3",
   "language": "python",
   "name": "python3"
  },
  "language_info": {
   "codemirror_mode": {
    "name": "ipython",
    "version": 3
   },
   "file_extension": ".py",
   "mimetype": "text/x-python",
   "name": "python",
   "nbconvert_exporter": "python",
   "pygments_lexer": "ipython3",
   "version": "3.8.6"
  }
 },
 "nbformat": 4,
 "nbformat_minor": 4
}
